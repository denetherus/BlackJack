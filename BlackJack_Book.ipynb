{
 "cells": [
  {
   "cell_type": "code",
   "execution_count": null,
   "metadata": {},
   "outputs": [],
   "source": [
    "#Alright, this project we are going to create a Python Blackjack game!\n",
    "#Single Player, no dealer you're competing against nor bidding. Try to hit 21!\n",
    "\n",
    "#Current Task: How can we break up this game into a set of tasks/events that happen?\n",
    "#What kinds of objects do we need to define? What actions do we need to make happen?\n",
    "#Let me know when you have some tasks! Will be checking in periodically\n",
    "#-Caleb"
   ]
  }
 ],
 "metadata": {
  "kernelspec": {
   "display_name": "Python 3",
   "language": "python",
   "name": "python3"
  },
  "language_info": {
   "codemirror_mode": {
    "name": "ipython",
    "version": 3
   },
   "file_extension": ".py",
   "mimetype": "text/x-python",
   "name": "python",
   "nbconvert_exporter": "python",
   "pygments_lexer": "ipython3",
   "version": "3.7.3"
  }
 },
 "nbformat": 4,
 "nbformat_minor": 2
}
